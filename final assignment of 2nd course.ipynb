{
 "cells": [
  {
   "cell_type": "markdown",
   "id": "e7384b86",
   "metadata": {},
   "source": [
    "# My Jupyter Notebook on IBM Watson Studio"
   ]
  },
  {
   "cell_type": "markdown",
   "id": "4db4c69c",
   "metadata": {},
   "source": [
    "## **Reza Saeediseper**\n",
    "I am the CEO of Nikabgostar Company"
   ]
  },
  {
   "cell_type": "markdown",
   "id": "65e670fb",
   "metadata": {},
   "source": [
    "### *I am interested in Data science since I can find the answer of question and soluton for problems that can not avilalbe before. In addition it empower me to pridict*"
   ]
  },
  {
   "cell_type": "markdown",
   "id": "bb34063f",
   "metadata": {},
   "source": [
    "###  in following cell I want to define two varibale, their values and sum of them."
   ]
  },
  {
   "cell_type": "code",
   "execution_count": 3,
   "id": "df42097c",
   "metadata": {},
   "outputs": [
    {
     "data": {
      "text/plain": [
       "3"
      ]
     },
     "execution_count": 3,
     "metadata": {},
     "output_type": "execute_result"
    }
   ],
   "source": [
    "X=1\n",
    "Y=2\n",
    "Z=X+Y\n",
    "Z"
   ]
  },
  {
   "cell_type": "markdown",
   "id": "e0a1db2a",
   "metadata": {},
   "source": [
    "Horizetal rule cab be done by typing three underscore\n",
    "___\n",
    "\n",
    "My list include\n",
    "* list1\n",
    "+ list2\n",
    "\n",
    "This is a sample table\n",
    "\n",
    "col1|col2 | col3\n",
    "---|----|----\n",
    "R11|R12| R13\n",
    "R21|R22|R23\n",
    "\n",
    "[This is my company link](https://nikabgostar.com \"Nikabgostar\")"
   ]
  }
 ],
 "metadata": {
  "kernelspec": {
   "display_name": "Python 3 (ipykernel)",
   "language": "python",
   "name": "python3"
  },
  "language_info": {
   "codemirror_mode": {
    "name": "ipython",
    "version": 3
   },
   "file_extension": ".py",
   "mimetype": "text/x-python",
   "name": "python",
   "nbconvert_exporter": "python",
   "pygments_lexer": "ipython3",
   "version": "3.9.13"
  }
 },
 "nbformat": 4,
 "nbformat_minor": 5
}
